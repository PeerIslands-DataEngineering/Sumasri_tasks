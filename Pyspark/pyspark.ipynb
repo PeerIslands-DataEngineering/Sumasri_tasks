{
  "nbformat": 4,
  "nbformat_minor": 0,
  "metadata": {
    "colab": {
      "provenance": []
    },
    "kernelspec": {
      "name": "python3",
      "display_name": "Python 3"
    },
    "language_info": {
      "name": "python"
    }
  },
  "cells": [
    {
      "cell_type": "code",
      "execution_count": 13,
      "metadata": {
        "id": "AYc-hDuaYKTv"
      },
      "outputs": [],
      "source": [
        "from pyspark import SparkContext"
      ]
    },
    {
      "cell_type": "code",
      "source": [
        "# Problem 1: Word Count with Filtering (Key-Value RDD)\n",
        "# Objective: Count the number of times each word appears, excluding stopwords.\n",
        "\n",
        "# Steps:\n",
        "\n",
        "# Load a list of sentences into an RDD.\n",
        "# Split each sentence into words.\n",
        "# Remove common stopwords like \"is\", \"the\", \"a\", \"an\", etc.\n",
        "# Create key-value pairs (word, 1).\n",
        "# Use reduceByKey to get the final word counts.\n",
        "\n",
        "# Transformations: flatMap, filter, map, reduceByKey\n",
        "# Actions: collect, take\n",
        "\n",
        "sc = SparkContext(\"local\", \"WordCountWithFilter\")\n",
        "\n",
        "sentences = [\n",
        "    \"This is a sample sentence\",\n",
        "    \"The spark RDD is powerful\",\n",
        "    \"A word count example using RDD\"\n",
        "]\n",
        "\n",
        "stopwords = {\"is\", \"the\", \"a\", \"an\", \"this\", \"using\"}\n",
        "\n",
        "rdd = sc.parallelize(sentences)\n",
        "\n",
        "word_counts = (\n",
        "    rdd.flatMap(lambda line: line.lower().split())\n",
        "       .filter(lambda word: word not in stopwords)\n",
        "       .map(lambda word: (word, 1))\n",
        "       .reduceByKey(lambda a, b: a + b)\n",
        ")\n",
        "\n",
        "print(word_counts.collect())\n"
      ],
      "metadata": {
        "colab": {
          "base_uri": "https://localhost:8080/"
        },
        "id": "fq1zPGhkY5NW",
        "outputId": "0d4cbec0-cdb0-47f9-c237-155c049d0f31"
      },
      "execution_count": 2,
      "outputs": [
        {
          "output_type": "stream",
          "name": "stdout",
          "text": [
            "[('sample', 1), ('sentence', 1), ('spark', 1), ('rdd', 2), ('powerful', 1), ('word', 1), ('count', 1), ('example', 1)]\n"
          ]
        }
      ]
    },
    {
      "cell_type": "code",
      "source": [
        "# Problem 2: Average Score per Student (Key-Value RDD)\n",
        "# Objective: Calculate average score of each student from a list of (name, score).\n",
        "\n",
        "# Input:\n",
        "\n",
        "# data = [(\"Alice\", 80), (\"Bob\", 90), (\"Alice\", 70), (\"Bob\", 85), (\"Charlie\", 60)]\n",
        "\n",
        "\n",
        "# Steps:\n",
        "\n",
        "# Map to key-value: (name, (score, 1))\n",
        "# Use reduceByKey to sum scores and counts: (name, (total_score, count))\n",
        "# Map to calculate average.\n",
        "\n",
        "# Transformations: map, reduceByKey\n",
        "# Actions: collect, takeOrdered\n",
        "\n",
        "data = [(\"Alice\", 80), (\"Bob\", 90), (\"Alice\", 70), (\"Bob\", 85), (\"Charlie\", 60)]\n",
        "rdd = sc.parallelize(data)\n",
        "\n",
        "average_scores = (\n",
        "    rdd.map(lambda x: (x[0], (x[1], 1)))\n",
        "       .reduceByKey(lambda a, b: (a[0] + b[0], a[1] + b[1]))\n",
        "       .map(lambda x: (x[0], round(x[1][0] / x[1][1], 2)))\n",
        ")\n",
        "\n",
        "print(average_scores.collect())\n"
      ],
      "metadata": {
        "colab": {
          "base_uri": "https://localhost:8080/"
        },
        "id": "tJvE6p-gY5Q2",
        "outputId": "e4a8086a-527c-447e-f2a3-f77dcdd07322"
      },
      "execution_count": 3,
      "outputs": [
        {
          "output_type": "stream",
          "name": "stdout",
          "text": [
            "[('Alice', 75.0), ('Bob', 87.5), ('Charlie', 60.0)]\n"
          ]
        }
      ]
    },
    {
      "cell_type": "code",
      "source": [
        "# Problem 3: Frequency of Each Number in List (List RDD)\n",
        "# Objective: From a list of numbers, count frequency of each number and sort in descending order of frequency.\n",
        "\n",
        "# Input:\n",
        "\n",
        "# numbers = [5, 3, 4, 5, 2, 3, 5, 3, 4]\n",
        "\n",
        "\n",
        "# Steps:\n",
        "\n",
        "# Convert to (number, 1)\n",
        "# Use reduceByKey to count occurrences\n",
        "# Swap to (count, number) and sort descending\n",
        "# Return top 3 frequent numbers\n",
        "\n",
        "# Transformations: map, reduceByKey, map, sortByKey\n",
        "# Actions: take, collect\n",
        "\n",
        "numbers = [5, 3, 4, 5, 2, 3, 5, 3, 4]\n",
        "rdd = sc.parallelize(numbers)\n",
        "\n",
        "top_frequencies = (\n",
        "    rdd.map(lambda x: (x, 1))\n",
        "       .reduceByKey(lambda a, b: a + b)\n",
        "       .map(lambda x: (x[1], x[0]))\n",
        "       .sortByKey(ascending=False)\n",
        "       .map(lambda x: (x[1], x[0]))\n",
        "       .take(3)\n",
        ")\n",
        "\n",
        "print(top_frequencies)\n"
      ],
      "metadata": {
        "colab": {
          "base_uri": "https://localhost:8080/"
        },
        "id": "H1Fv8SGXY5Ve",
        "outputId": "55ceff2b-5dd5-401c-8fe9-fbf1387f50c4"
      },
      "execution_count": 14,
      "outputs": [
        {
          "output_type": "stream",
          "name": "stdout",
          "text": [
            "[(5, 3), (3, 3), (4, 2)]\n"
          ]
        }
      ]
    },
    {
      "cell_type": "code",
      "source": [
        "from google.colab import files\n",
        "uploaded = files.upload()\n",
        "\n",
        "\n"
      ],
      "metadata": {
        "colab": {
          "base_uri": "https://localhost:8080/",
          "height": 73
        },
        "id": "DXhogl8eZPao",
        "outputId": "626459f7-02a0-411b-d53b-6c3ea3ef1c0c"
      },
      "execution_count": 7,
      "outputs": [
        {
          "output_type": "display_data",
          "data": {
            "text/plain": [
              "<IPython.core.display.HTML object>"
            ],
            "text/html": [
              "\n",
              "     <input type=\"file\" id=\"files-eedf5e4c-be3c-4fe0-b4aa-14641ab54e5e\" name=\"files[]\" multiple disabled\n",
              "        style=\"border:none\" />\n",
              "     <output id=\"result-eedf5e4c-be3c-4fe0-b4aa-14641ab54e5e\">\n",
              "      Upload widget is only available when the cell has been executed in the\n",
              "      current browser session. Please rerun this cell to enable.\n",
              "      </output>\n",
              "      <script>// Copyright 2017 Google LLC\n",
              "//\n",
              "// Licensed under the Apache License, Version 2.0 (the \"License\");\n",
              "// you may not use this file except in compliance with the License.\n",
              "// You may obtain a copy of the License at\n",
              "//\n",
              "//      http://www.apache.org/licenses/LICENSE-2.0\n",
              "//\n",
              "// Unless required by applicable law or agreed to in writing, software\n",
              "// distributed under the License is distributed on an \"AS IS\" BASIS,\n",
              "// WITHOUT WARRANTIES OR CONDITIONS OF ANY KIND, either express or implied.\n",
              "// See the License for the specific language governing permissions and\n",
              "// limitations under the License.\n",
              "\n",
              "/**\n",
              " * @fileoverview Helpers for google.colab Python module.\n",
              " */\n",
              "(function(scope) {\n",
              "function span(text, styleAttributes = {}) {\n",
              "  const element = document.createElement('span');\n",
              "  element.textContent = text;\n",
              "  for (const key of Object.keys(styleAttributes)) {\n",
              "    element.style[key] = styleAttributes[key];\n",
              "  }\n",
              "  return element;\n",
              "}\n",
              "\n",
              "// Max number of bytes which will be uploaded at a time.\n",
              "const MAX_PAYLOAD_SIZE = 100 * 1024;\n",
              "\n",
              "function _uploadFiles(inputId, outputId) {\n",
              "  const steps = uploadFilesStep(inputId, outputId);\n",
              "  const outputElement = document.getElementById(outputId);\n",
              "  // Cache steps on the outputElement to make it available for the next call\n",
              "  // to uploadFilesContinue from Python.\n",
              "  outputElement.steps = steps;\n",
              "\n",
              "  return _uploadFilesContinue(outputId);\n",
              "}\n",
              "\n",
              "// This is roughly an async generator (not supported in the browser yet),\n",
              "// where there are multiple asynchronous steps and the Python side is going\n",
              "// to poll for completion of each step.\n",
              "// This uses a Promise to block the python side on completion of each step,\n",
              "// then passes the result of the previous step as the input to the next step.\n",
              "function _uploadFilesContinue(outputId) {\n",
              "  const outputElement = document.getElementById(outputId);\n",
              "  const steps = outputElement.steps;\n",
              "\n",
              "  const next = steps.next(outputElement.lastPromiseValue);\n",
              "  return Promise.resolve(next.value.promise).then((value) => {\n",
              "    // Cache the last promise value to make it available to the next\n",
              "    // step of the generator.\n",
              "    outputElement.lastPromiseValue = value;\n",
              "    return next.value.response;\n",
              "  });\n",
              "}\n",
              "\n",
              "/**\n",
              " * Generator function which is called between each async step of the upload\n",
              " * process.\n",
              " * @param {string} inputId Element ID of the input file picker element.\n",
              " * @param {string} outputId Element ID of the output display.\n",
              " * @return {!Iterable<!Object>} Iterable of next steps.\n",
              " */\n",
              "function* uploadFilesStep(inputId, outputId) {\n",
              "  const inputElement = document.getElementById(inputId);\n",
              "  inputElement.disabled = false;\n",
              "\n",
              "  const outputElement = document.getElementById(outputId);\n",
              "  outputElement.innerHTML = '';\n",
              "\n",
              "  const pickedPromise = new Promise((resolve) => {\n",
              "    inputElement.addEventListener('change', (e) => {\n",
              "      resolve(e.target.files);\n",
              "    });\n",
              "  });\n",
              "\n",
              "  const cancel = document.createElement('button');\n",
              "  inputElement.parentElement.appendChild(cancel);\n",
              "  cancel.textContent = 'Cancel upload';\n",
              "  const cancelPromise = new Promise((resolve) => {\n",
              "    cancel.onclick = () => {\n",
              "      resolve(null);\n",
              "    };\n",
              "  });\n",
              "\n",
              "  // Wait for the user to pick the files.\n",
              "  const files = yield {\n",
              "    promise: Promise.race([pickedPromise, cancelPromise]),\n",
              "    response: {\n",
              "      action: 'starting',\n",
              "    }\n",
              "  };\n",
              "\n",
              "  cancel.remove();\n",
              "\n",
              "  // Disable the input element since further picks are not allowed.\n",
              "  inputElement.disabled = true;\n",
              "\n",
              "  if (!files) {\n",
              "    return {\n",
              "      response: {\n",
              "        action: 'complete',\n",
              "      }\n",
              "    };\n",
              "  }\n",
              "\n",
              "  for (const file of files) {\n",
              "    const li = document.createElement('li');\n",
              "    li.append(span(file.name, {fontWeight: 'bold'}));\n",
              "    li.append(span(\n",
              "        `(${file.type || 'n/a'}) - ${file.size} bytes, ` +\n",
              "        `last modified: ${\n",
              "            file.lastModifiedDate ? file.lastModifiedDate.toLocaleDateString() :\n",
              "                                    'n/a'} - `));\n",
              "    const percent = span('0% done');\n",
              "    li.appendChild(percent);\n",
              "\n",
              "    outputElement.appendChild(li);\n",
              "\n",
              "    const fileDataPromise = new Promise((resolve) => {\n",
              "      const reader = new FileReader();\n",
              "      reader.onload = (e) => {\n",
              "        resolve(e.target.result);\n",
              "      };\n",
              "      reader.readAsArrayBuffer(file);\n",
              "    });\n",
              "    // Wait for the data to be ready.\n",
              "    let fileData = yield {\n",
              "      promise: fileDataPromise,\n",
              "      response: {\n",
              "        action: 'continue',\n",
              "      }\n",
              "    };\n",
              "\n",
              "    // Use a chunked sending to avoid message size limits. See b/62115660.\n",
              "    let position = 0;\n",
              "    do {\n",
              "      const length = Math.min(fileData.byteLength - position, MAX_PAYLOAD_SIZE);\n",
              "      const chunk = new Uint8Array(fileData, position, length);\n",
              "      position += length;\n",
              "\n",
              "      const base64 = btoa(String.fromCharCode.apply(null, chunk));\n",
              "      yield {\n",
              "        response: {\n",
              "          action: 'append',\n",
              "          file: file.name,\n",
              "          data: base64,\n",
              "        },\n",
              "      };\n",
              "\n",
              "      let percentDone = fileData.byteLength === 0 ?\n",
              "          100 :\n",
              "          Math.round((position / fileData.byteLength) * 100);\n",
              "      percent.textContent = `${percentDone}% done`;\n",
              "\n",
              "    } while (position < fileData.byteLength);\n",
              "  }\n",
              "\n",
              "  // All done.\n",
              "  yield {\n",
              "    response: {\n",
              "      action: 'complete',\n",
              "    }\n",
              "  };\n",
              "}\n",
              "\n",
              "scope.google = scope.google || {};\n",
              "scope.google.colab = scope.google.colab || {};\n",
              "scope.google.colab._files = {\n",
              "  _uploadFiles,\n",
              "  _uploadFilesContinue,\n",
              "};\n",
              "})(self);\n",
              "</script> "
            ]
          },
          "metadata": {}
        },
        {
          "output_type": "stream",
          "name": "stdout",
          "text": [
            "Saving titanic.parquet to titanic.parquet\n"
          ]
        }
      ]
    },
    {
      "cell_type": "code",
      "source": [
        "import shutil\n",
        "\n",
        "shutil.move(\"titanic.parquet\", \"/content/titanic.parquet\")\n"
      ],
      "metadata": {
        "colab": {
          "base_uri": "https://localhost:8080/",
          "height": 36
        },
        "id": "6VVoLfFsZPdp",
        "outputId": "99f9416b-fa57-40be-9787-18ac2e9849b8"
      },
      "execution_count": 8,
      "outputs": [
        {
          "output_type": "execute_result",
          "data": {
            "text/plain": [
              "'/content/titanic.parquet'"
            ],
            "application/vnd.google.colaboratory.intrinsic+json": {
              "type": "string"
            }
          },
          "metadata": {},
          "execution_count": 8
        }
      ]
    },
    {
      "cell_type": "code",
      "source": [
        "from pyspark.sql import SparkSession\n",
        "\n",
        "spark = SparkSession.builder \\\n",
        "    .appName(\"Titanic Parquet Load\") \\\n",
        "    .getOrCreate()\n",
        "\n",
        "\n",
        "df = spark.read.parquet(\"/content/titanic.parquet\")\n",
        "\n",
        "df.show()\n",
        "df.printSchema()\n"
      ],
      "metadata": {
        "colab": {
          "base_uri": "https://localhost:8080/"
        },
        "id": "1XM8oq-sZPhE",
        "outputId": "d386053c-8bf6-4db7-eda9-28405aa15908"
      },
      "execution_count": 9,
      "outputs": [
        {
          "output_type": "stream",
          "name": "stdout",
          "text": [
            "+-----------+--------+------+--------------------+------+----+-----+-----+----------------+-------+-----+--------+\n",
            "|PassengerId|Survived|Pclass|                Name|   Sex| Age|SibSp|Parch|          Ticket|   Fare|Cabin|Embarked|\n",
            "+-----------+--------+------+--------------------+------+----+-----+-----+----------------+-------+-----+--------+\n",
            "|          1|       0|     3|Braund, Mr. Owen ...|  male|22.0|    1|    0|       A/5 21171|   7.25| NULL|       S|\n",
            "|          2|       1|     1|Cumings, Mrs. Joh...|female|38.0|    1|    0|        PC 17599|71.2833|  C85|       C|\n",
            "|          3|       1|     3|Heikkinen, Miss. ...|female|26.0|    0|    0|STON/O2. 3101282|  7.925| NULL|       S|\n",
            "|          4|       1|     1|Futrelle, Mrs. Ja...|female|35.0|    1|    0|          113803|   53.1| C123|       S|\n",
            "|          5|       0|     3|Allen, Mr. Willia...|  male|35.0|    0|    0|          373450|   8.05| NULL|       S|\n",
            "|          6|       0|     3|    Moran, Mr. James|  male|NULL|    0|    0|          330877| 8.4583| NULL|       Q|\n",
            "|          7|       0|     1|McCarthy, Mr. Tim...|  male|54.0|    0|    0|           17463|51.8625|  E46|       S|\n",
            "|          8|       0|     3|Palsson, Master. ...|  male| 2.0|    3|    1|          349909| 21.075| NULL|       S|\n",
            "|          9|       1|     3|Johnson, Mrs. Osc...|female|27.0|    0|    2|          347742|11.1333| NULL|       S|\n",
            "|         10|       1|     2|Nasser, Mrs. Nich...|female|14.0|    1|    0|          237736|30.0708| NULL|       C|\n",
            "|         11|       1|     3|Sandstrom, Miss. ...|female| 4.0|    1|    1|         PP 9549|   16.7|   G6|       S|\n",
            "|         12|       1|     1|Bonnell, Miss. El...|female|58.0|    0|    0|          113783|  26.55| C103|       S|\n",
            "|         13|       0|     3|Saundercock, Mr. ...|  male|20.0|    0|    0|       A/5. 2151|   8.05| NULL|       S|\n",
            "|         14|       0|     3|Andersson, Mr. An...|  male|39.0|    1|    5|          347082| 31.275| NULL|       S|\n",
            "|         15|       0|     3|Vestrom, Miss. Hu...|female|14.0|    0|    0|          350406| 7.8542| NULL|       S|\n",
            "|         16|       1|     2|Hewlett, Mrs. (Ma...|female|55.0|    0|    0|          248706|   16.0| NULL|       S|\n",
            "|         17|       0|     3|Rice, Master. Eugene|  male| 2.0|    4|    1|          382652| 29.125| NULL|       Q|\n",
            "|         18|       1|     2|Williams, Mr. Cha...|  male|NULL|    0|    0|          244373|   13.0| NULL|       S|\n",
            "|         19|       0|     3|Vander Planke, Mr...|female|31.0|    1|    0|          345763|   18.0| NULL|       S|\n",
            "|         20|       1|     3|Masselmani, Mrs. ...|female|NULL|    0|    0|            2649|  7.225| NULL|       C|\n",
            "+-----------+--------+------+--------------------+------+----+-----+-----+----------------+-------+-----+--------+\n",
            "only showing top 20 rows\n",
            "\n",
            "root\n",
            " |-- PassengerId: long (nullable = true)\n",
            " |-- Survived: long (nullable = true)\n",
            " |-- Pclass: long (nullable = true)\n",
            " |-- Name: string (nullable = true)\n",
            " |-- Sex: string (nullable = true)\n",
            " |-- Age: double (nullable = true)\n",
            " |-- SibSp: long (nullable = true)\n",
            " |-- Parch: long (nullable = true)\n",
            " |-- Ticket: string (nullable = true)\n",
            " |-- Fare: double (nullable = true)\n",
            " |-- Cabin: string (nullable = true)\n",
            " |-- Embarked: string (nullable = true)\n",
            "\n"
          ]
        }
      ]
    },
    {
      "cell_type": "code",
      "source": [
        "# 1. Survival Rate by Passenger Class and Gender\n",
        "# Task:\n",
        "# Calculate the survival rate grouped by Pclass and Sex. Sort the result by Pclass and descending survival rate.\n",
        "\n",
        "# Expected Output Columns:\n",
        "\n",
        "# Pclass\n",
        "# Sex\n",
        "# SurvivalRate (rounded to 2 decimal places)\n",
        "\n",
        "# SQL:\n",
        "\n",
        "# SELECT\n",
        "#     Pclass,\n",
        "#     Sex,\n",
        "#     ROUND(AVG(Survived), 2) AS SurvivalRate\n",
        "# FROM passengers\n",
        "# GROUP BY Pclass, Sex\n",
        "# ORDER BY Pclass, SurvivalRate DESC\n",
        "\n",
        "from pyspark.sql import SparkSession\n",
        "spark = SparkSession.builder.appName(\"SurvivalRateSQL\").getOrCreate()\n",
        "df = spark.read.parquet(\"/content/titanic.parquet\")\n",
        "df.createOrReplaceTempView(\"passengers\")\n",
        "result_df = spark.sql(\"\"\"\n",
        "    SELECT\n",
        "        Pclass,\n",
        "        Sex,\n",
        "        ROUND(AVG(Survived), 2) AS SurvivalRate\n",
        "    FROM passengers\n",
        "    GROUP BY Pclass, Sex\n",
        "    ORDER BY Pclass ASC, SurvivalRate DESC\n",
        "\"\"\")\n",
        "result_df.show()"
      ],
      "metadata": {
        "colab": {
          "base_uri": "https://localhost:8080/"
        },
        "id": "d09w-5SacyIx",
        "outputId": "7628263c-09ca-44e2-cfa9-156127cfb22f"
      },
      "execution_count": 10,
      "outputs": [
        {
          "output_type": "stream",
          "name": "stdout",
          "text": [
            "+------+------+------------+\n",
            "|Pclass|   Sex|SurvivalRate|\n",
            "+------+------+------------+\n",
            "|     1|female|        0.97|\n",
            "|     1|  male|        0.37|\n",
            "|     2|female|        0.92|\n",
            "|     2|  male|        0.16|\n",
            "|     3|female|         0.5|\n",
            "|     3|  male|        0.14|\n",
            "+------+------+------------+\n",
            "\n"
          ]
        }
      ]
    },
    {
      "cell_type": "code",
      "source": [
        "# Problem 2: Average Fare and Age by Embarkation Port\n",
        "# Task:\n",
        "# Find the average Fare and Age of passengers grouped by Embarked. Exclude rows where Fare or Age is NULL. Order by average fare descending.\n",
        "\n",
        "# Expected Output Columns:\n",
        "\n",
        "# Embarked\n",
        "# AvgFare\n",
        "# AvgAge\n",
        "\n",
        "# SQL:\n",
        "\n",
        "# SELECT\n",
        "#     Embarked,\n",
        "#     ROUND(AVG(Fare), 2) AS AvgFare,\n",
        "#     ROUND(AVG(Age), 2) AS AvgAge\n",
        "# FROM passengers\n",
        "# WHERE Fare IS NOT NULL AND Age IS NOT NULL\n",
        "# GROUP BY Embarked\n",
        "# ORDER BY AvgFare DESC\n",
        "\n",
        "\n",
        "from pyspark.sql import SparkSession\n",
        "\n",
        "\n",
        "spark = SparkSession.builder.appName(\"AverageFareAgeByPort\").getOrCreate()\n",
        "\n",
        "\n",
        "df = spark.read.parquet(\"/content/titanic.parquet\")\n",
        "\n",
        "\n",
        "df.createOrReplaceTempView(\"passengers\")\n",
        "\n",
        "\n",
        "result_df = spark.sql(\"\"\"\n",
        "    SELECT\n",
        "        Embarked,\n",
        "        ROUND(AVG(Fare), 2) AS AvgFare,\n",
        "        ROUND(AVG(Age), 2) AS AvgAge\n",
        "    FROM passengers\n",
        "    WHERE Fare IS NOT NULL AND Age IS NOT NULL\n",
        "    GROUP BY Embarked\n",
        "    ORDER BY AvgFare DESC\n",
        "\"\"\")\n",
        "\n",
        "\n",
        "result_df.show()\n"
      ],
      "metadata": {
        "colab": {
          "base_uri": "https://localhost:8080/"
        },
        "id": "8FSoNBfEcyMX",
        "outputId": "8624fee6-dcb2-4e0a-c876-64e2111869fa"
      },
      "execution_count": 15,
      "outputs": [
        {
          "output_type": "stream",
          "name": "stdout",
          "text": [
            "+--------+-------+------+\n",
            "|Embarked|AvgFare|AvgAge|\n",
            "+--------+-------+------+\n",
            "|    NULL|   80.0|  50.0|\n",
            "|       C|   68.3| 30.81|\n",
            "|       S|  27.48| 29.45|\n",
            "|       Q|  18.27| 28.09|\n",
            "+--------+-------+------+\n",
            "\n"
          ]
        }
      ]
    },
    {
      "cell_type": "code",
      "source": [
        "# Problem 3: Top 5 Paying Passengers Who Survived\n",
        "# Task:\n",
        "# Find the top 5 passengers (by Fare) who survived. Display their Name, Pclass, Sex, Fare, and Cabin.\n",
        "\n",
        "# Expected Output Columns:\n",
        "\n",
        "# Name\n",
        "# Pclass\n",
        "# Sex\n",
        "# Fare\n",
        "# Cabin\n",
        "\n",
        "# SQL:\n",
        "\n",
        "# SELECT\n",
        "#     Name, Pclass, Sex, Fare, Cabin\n",
        "# FROM passengers\n",
        "# WHERE Survived = 1\n",
        "# ORDER BY Fare DESC\n",
        "# LIMIT 5\n",
        "\n",
        "from pyspark.sql import SparkSession\n",
        "spark = SparkSession.builder.appName(\"Top5PayingSurvivors\").getOrCreate()\n",
        "df = spark.read.parquet(\"/content/titanic.parquet\")\n",
        "df.createOrReplaceTempView(\"passengers\")\n",
        "result_df = spark.sql(\"\"\"\n",
        "    SELECT\n",
        "        Name, Pclass, Sex, Fare, Cabin\n",
        "    FROM passengers\n",
        "    WHERE Survived = 1\n",
        "    ORDER BY Fare DESC\n",
        "    LIMIT 5\n",
        "\"\"\")\n",
        "result_df.show(truncate=False)"
      ],
      "metadata": {
        "colab": {
          "base_uri": "https://localhost:8080/"
        },
        "id": "tnVPrKo3cyPL",
        "outputId": "e2460f86-7553-4ce6-eec9-a798b8ea1c6a"
      },
      "execution_count": 16,
      "outputs": [
        {
          "output_type": "stream",
          "name": "stdout",
          "text": [
            "+----------------------------------+------+------+--------+-----------+\n",
            "|Name                              |Pclass|Sex   |Fare    |Cabin      |\n",
            "+----------------------------------+------+------+--------+-----------+\n",
            "|Ward, Miss. Anna                  |1     |female|512.3292|NULL       |\n",
            "|Cardeza, Mr. Thomas Drake Martinez|1     |male  |512.3292|B51 B53 B55|\n",
            "|Lesurer, Mr. Gustave J            |1     |male  |512.3292|B101       |\n",
            "|Fortune, Miss. Mabel Helen        |1     |female|263.0   |C23 C25 C27|\n",
            "|Fortune, Miss. Alice Elizabeth    |1     |female|263.0   |C23 C25 C27|\n",
            "+----------------------------------+------+------+--------+-----------+\n",
            "\n"
          ]
        }
      ]
    }
  ]
}