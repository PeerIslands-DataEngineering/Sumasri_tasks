{
  "nbformat": 4,
  "nbformat_minor": 0,
  "metadata": {
    "colab": {
      "provenance": []
    },
    "kernelspec": {
      "name": "python3",
      "display_name": "Python 3"
    },
    "language_info": {
      "name": "python"
    }
  },
  "cells": [
    {
      "cell_type": "code",
      "execution_count": 1,
      "metadata": {
        "id": "DIu8RoQQjo4e"
      },
      "outputs": [],
      "source": [
        "from pyspark.sql import SparkSession\n",
        "\n",
        "spark = SparkSession.builder.appName(\"SaaS Analysis\").getOrCreate()\n"
      ]
    },
    {
      "cell_type": "code",
      "source": [
        "from google.colab import files\n",
        "uploaded = files.upload()\n"
      ],
      "metadata": {
        "colab": {
          "base_uri": "https://localhost:8080/",
          "height": 73
        },
        "id": "gbM9PTWTkB6w",
        "outputId": "b468aefa-a667-48a6-f181-521c22e67694"
      },
      "execution_count": 2,
      "outputs": [
        {
          "output_type": "display_data",
          "data": {
            "text/plain": [
              "<IPython.core.display.HTML object>"
            ],
            "text/html": [
              "\n",
              "     <input type=\"file\" id=\"files-85022620-a2a7-4de5-97e1-2c54a73882f7\" name=\"files[]\" multiple disabled\n",
              "        style=\"border:none\" />\n",
              "     <output id=\"result-85022620-a2a7-4de5-97e1-2c54a73882f7\">\n",
              "      Upload widget is only available when the cell has been executed in the\n",
              "      current browser session. Please rerun this cell to enable.\n",
              "      </output>\n",
              "      <script>// Copyright 2017 Google LLC\n",
              "//\n",
              "// Licensed under the Apache License, Version 2.0 (the \"License\");\n",
              "// you may not use this file except in compliance with the License.\n",
              "// You may obtain a copy of the License at\n",
              "//\n",
              "//      http://www.apache.org/licenses/LICENSE-2.0\n",
              "//\n",
              "// Unless required by applicable law or agreed to in writing, software\n",
              "// distributed under the License is distributed on an \"AS IS\" BASIS,\n",
              "// WITHOUT WARRANTIES OR CONDITIONS OF ANY KIND, either express or implied.\n",
              "// See the License for the specific language governing permissions and\n",
              "// limitations under the License.\n",
              "\n",
              "/**\n",
              " * @fileoverview Helpers for google.colab Python module.\n",
              " */\n",
              "(function(scope) {\n",
              "function span(text, styleAttributes = {}) {\n",
              "  const element = document.createElement('span');\n",
              "  element.textContent = text;\n",
              "  for (const key of Object.keys(styleAttributes)) {\n",
              "    element.style[key] = styleAttributes[key];\n",
              "  }\n",
              "  return element;\n",
              "}\n",
              "\n",
              "// Max number of bytes which will be uploaded at a time.\n",
              "const MAX_PAYLOAD_SIZE = 100 * 1024;\n",
              "\n",
              "function _uploadFiles(inputId, outputId) {\n",
              "  const steps = uploadFilesStep(inputId, outputId);\n",
              "  const outputElement = document.getElementById(outputId);\n",
              "  // Cache steps on the outputElement to make it available for the next call\n",
              "  // to uploadFilesContinue from Python.\n",
              "  outputElement.steps = steps;\n",
              "\n",
              "  return _uploadFilesContinue(outputId);\n",
              "}\n",
              "\n",
              "// This is roughly an async generator (not supported in the browser yet),\n",
              "// where there are multiple asynchronous steps and the Python side is going\n",
              "// to poll for completion of each step.\n",
              "// This uses a Promise to block the python side on completion of each step,\n",
              "// then passes the result of the previous step as the input to the next step.\n",
              "function _uploadFilesContinue(outputId) {\n",
              "  const outputElement = document.getElementById(outputId);\n",
              "  const steps = outputElement.steps;\n",
              "\n",
              "  const next = steps.next(outputElement.lastPromiseValue);\n",
              "  return Promise.resolve(next.value.promise).then((value) => {\n",
              "    // Cache the last promise value to make it available to the next\n",
              "    // step of the generator.\n",
              "    outputElement.lastPromiseValue = value;\n",
              "    return next.value.response;\n",
              "  });\n",
              "}\n",
              "\n",
              "/**\n",
              " * Generator function which is called between each async step of the upload\n",
              " * process.\n",
              " * @param {string} inputId Element ID of the input file picker element.\n",
              " * @param {string} outputId Element ID of the output display.\n",
              " * @return {!Iterable<!Object>} Iterable of next steps.\n",
              " */\n",
              "function* uploadFilesStep(inputId, outputId) {\n",
              "  const inputElement = document.getElementById(inputId);\n",
              "  inputElement.disabled = false;\n",
              "\n",
              "  const outputElement = document.getElementById(outputId);\n",
              "  outputElement.innerHTML = '';\n",
              "\n",
              "  const pickedPromise = new Promise((resolve) => {\n",
              "    inputElement.addEventListener('change', (e) => {\n",
              "      resolve(e.target.files);\n",
              "    });\n",
              "  });\n",
              "\n",
              "  const cancel = document.createElement('button');\n",
              "  inputElement.parentElement.appendChild(cancel);\n",
              "  cancel.textContent = 'Cancel upload';\n",
              "  const cancelPromise = new Promise((resolve) => {\n",
              "    cancel.onclick = () => {\n",
              "      resolve(null);\n",
              "    };\n",
              "  });\n",
              "\n",
              "  // Wait for the user to pick the files.\n",
              "  const files = yield {\n",
              "    promise: Promise.race([pickedPromise, cancelPromise]),\n",
              "    response: {\n",
              "      action: 'starting',\n",
              "    }\n",
              "  };\n",
              "\n",
              "  cancel.remove();\n",
              "\n",
              "  // Disable the input element since further picks are not allowed.\n",
              "  inputElement.disabled = true;\n",
              "\n",
              "  if (!files) {\n",
              "    return {\n",
              "      response: {\n",
              "        action: 'complete',\n",
              "      }\n",
              "    };\n",
              "  }\n",
              "\n",
              "  for (const file of files) {\n",
              "    const li = document.createElement('li');\n",
              "    li.append(span(file.name, {fontWeight: 'bold'}));\n",
              "    li.append(span(\n",
              "        `(${file.type || 'n/a'}) - ${file.size} bytes, ` +\n",
              "        `last modified: ${\n",
              "            file.lastModifiedDate ? file.lastModifiedDate.toLocaleDateString() :\n",
              "                                    'n/a'} - `));\n",
              "    const percent = span('0% done');\n",
              "    li.appendChild(percent);\n",
              "\n",
              "    outputElement.appendChild(li);\n",
              "\n",
              "    const fileDataPromise = new Promise((resolve) => {\n",
              "      const reader = new FileReader();\n",
              "      reader.onload = (e) => {\n",
              "        resolve(e.target.result);\n",
              "      };\n",
              "      reader.readAsArrayBuffer(file);\n",
              "    });\n",
              "    // Wait for the data to be ready.\n",
              "    let fileData = yield {\n",
              "      promise: fileDataPromise,\n",
              "      response: {\n",
              "        action: 'continue',\n",
              "      }\n",
              "    };\n",
              "\n",
              "    // Use a chunked sending to avoid message size limits. See b/62115660.\n",
              "    let position = 0;\n",
              "    do {\n",
              "      const length = Math.min(fileData.byteLength - position, MAX_PAYLOAD_SIZE);\n",
              "      const chunk = new Uint8Array(fileData, position, length);\n",
              "      position += length;\n",
              "\n",
              "      const base64 = btoa(String.fromCharCode.apply(null, chunk));\n",
              "      yield {\n",
              "        response: {\n",
              "          action: 'append',\n",
              "          file: file.name,\n",
              "          data: base64,\n",
              "        },\n",
              "      };\n",
              "\n",
              "      let percentDone = fileData.byteLength === 0 ?\n",
              "          100 :\n",
              "          Math.round((position / fileData.byteLength) * 100);\n",
              "      percent.textContent = `${percentDone}% done`;\n",
              "\n",
              "    } while (position < fileData.byteLength);\n",
              "  }\n",
              "\n",
              "  // All done.\n",
              "  yield {\n",
              "    response: {\n",
              "      action: 'complete',\n",
              "    }\n",
              "  };\n",
              "}\n",
              "\n",
              "scope.google = scope.google || {};\n",
              "scope.google.colab = scope.google.colab || {};\n",
              "scope.google.colab._files = {\n",
              "  _uploadFiles,\n",
              "  _uploadFilesContinue,\n",
              "};\n",
              "})(self);\n",
              "</script> "
            ]
          },
          "metadata": {}
        },
        {
          "output_type": "stream",
          "name": "stdout",
          "text": [
            "Saving top_100_saas_companies_2025.csv to top_100_saas_companies_2025.csv\n"
          ]
        }
      ]
    },
    {
      "cell_type": "code",
      "source": [
        "df = spark.read.option(\"header\", True).csv(\"top_100_saas_companies_2025.csv\")\n",
        "df.printSchema()\n",
        "df.show()\n"
      ],
      "metadata": {
        "colab": {
          "base_uri": "https://localhost:8080/"
        },
        "id": "UWyF34xmkB-Q",
        "outputId": "45e7b08f-7462-499c-d8f6-7bad03f9f9dc"
      },
      "execution_count": 5,
      "outputs": [
        {
          "output_type": "stream",
          "name": "stdout",
          "text": [
            "root\n",
            " |-- Company Name: string (nullable = true)\n",
            " |-- Founded Year: string (nullable = true)\n",
            " |-- HQ: string (nullable = true)\n",
            " |-- Industry: string (nullable = true)\n",
            " |-- Total Funding: string (nullable = true)\n",
            " |-- ARR: string (nullable = true)\n",
            " |-- Valuation: string (nullable = true)\n",
            " |-- Employees: string (nullable = true)\n",
            " |-- Top Investors: string (nullable = true)\n",
            " |-- Product: string (nullable = true)\n",
            " |-- G2 Rating: string (nullable = true)\n",
            "\n",
            "+------------+------------+--------------------+--------------------+-------------+------+-------------------+---------+--------------------+--------------------+---------+\n",
            "|Company Name|Founded Year|                  HQ|            Industry|Total Funding|   ARR|          Valuation|Employees|       Top Investors|             Product|G2 Rating|\n",
            "+------------+------------+--------------------+--------------------+-------------+------+-------------------+---------+--------------------+--------------------+---------+\n",
            "|   Microsoft|        1975|    Redmond, WA, USA| Enterprise Software|          $1B| $270B|                $3T|  221,000|Bill Gates, Paul ...|Azure, Office 365...|      4.4|\n",
            "|  Salesforce|        1999|San Francisco, CA...|                 CRM|       $65.4M|$37.9B|            $227.8B|   75,000|Halsey Minor, Lar...|Sales Cloud, Serv...|      4.3|\n",
            "|       Adobe|        1982|   San Jose, CA, USA|   Creative Software|        $2.5M|$19.4B|              $240B|   29,945|   Hambrecht & Quist|Creative Cloud, D...|      4.5|\n",
            "|      Oracle|        1977|     Austin, TX, USA|Database & Enterp...|          $2K|$52.9B|              $350B|  143,000|Larry Ellison, Bo...|Oracle Cloud, Net...|      4.0|\n",
            "|         SAP|        1972|   Walldorf, Germany| Enterprise Software|          N/A|$32.5B|              $215B|  107,415|Dietmar Hopp, Kla...|S/4HANA, SuccessF...|      4.1|\n",
            "|      Intuit|        1983|Mountain View, CA...|  Financial Software|        $273M|$14.4B|              $180B|   18,200|Sierra Ventures, ...|QuickBooks, TurboTax|      4.4|\n",
            "|  ServiceNow|        2004|Santa Clara, CA, USA|IT Service Manage...|       $82.5M| $8.9B|              $147B|   20,000|JMI Equity, Sequo...|IT Service Manage...|      4.4|\n",
            "|     Workday|        2005| Pleasanton, CA, USA|        HR & Finance|      $249.9M| $7.3B|               $65B|   18,800|Greylock Partners...|HCM, Financial Ma...|      4.2|\n",
            "|        Zoom|        2011|   San Jose, CA, USA|Video Communications|      $145.5M| $4.5B|               $85B|    7,388|Sequoia Capital, ...|Video Conferencin...|      4.5|\n",
            "|     Shopify|        2006|      Ottawa, Canada|          E-commerce|      $122.3M| $7.1B|               $95B|   11,600|Bessemer, FirstMa...| E-commerce Platform|      4.4|\n",
            "|   Atlassian|        2002|   Sydney, Australia|Collaboration Sof...|         $60M| $3.5B|               $55B|   11,800|      Accel Partners|Jira, Confluence,...|      4.3|\n",
            "|   Snowflake|        2012|    Bozeman, MT, USA|    Data Warehousing|        $1.4B| $2.8B|               $75B|    6,500|Sequoia, ICONIQ, ...| Cloud Data Platform|      4.4|\n",
            "|     HubSpot|        2006|  Cambridge, MA, USA|   Marketing & Sales|      $100.5M| $2.2B|               $32B|    7,600|General Catalyst,...|Marketing Hub, Sa...|      4.4|\n",
            "|    DocuSign|        2003|San Francisco, CA...|  Digital Agreements|      $514.3M| $2.5B|               $10B|    7,336|Kleiner Perkins, ...|eSignature, Contr...|      4.5|\n",
            "|       Slack|        2009|San Francisco, CA...|  Team Communication|        $1.4B| $1.7B|$27.7B (Salesforce)|    2,545|Accel, Andreessen...|Team Messaging Pl...|      4.5|\n",
            "|      Notion|        2013|San Francisco, CA...|        Productivity|        $353M| $400M|               $10B|      800|Index Ventures, S...|All-in-one workspace|      4.7|\n",
            "|     Datadog|        2010|   New York, NY, USA|Monitoring & Anal...|      $147.9M| $2.1B|               $44B|    5,200|ICONIQ, Index Ven...|Infrastructure Mo...|      4.4|\n",
            "|     MongoDB|        2007|   New York, NY, USA|            Database|      $311.2M| $1.7B|               $26B|    4,500|   Sequoia, NEA, USV|Document Database...|      4.5|\n",
            "|        Okta|        2009|San Francisco, CA...| Identity Management|      $230.5M| $2.2B|               $25B|    5,900|Andreessen Horowi...|Identity & Access...|      4.4|\n",
            "|      Twilio|        2008|San Francisco, CA...|      Communications|      $261.3M| $4.1B|               $12B|    7,867|Bessemer, Union S...| Communications APIs|      4.3|\n",
            "+------------+------------+--------------------+--------------------+-------------+------+-------------------+---------+--------------------+--------------------+---------+\n",
            "only showing top 20 rows\n",
            "\n"
          ]
        }
      ]
    },
    {
      "cell_type": "code",
      "source": [
        "from pyspark.sql.functions import udf, col\n",
        "from pyspark.sql.types import DoubleType\n",
        "\n",
        "def convert_currency(value):\n",
        "    if value is None:\n",
        "        return None\n",
        "    value = value.replace(\"$\", \"\").strip()\n",
        "    try:\n",
        "        if value.endswith(\"T\"):\n",
        "            return float(value[:-1]) * 1_000_000_000_000\n",
        "        elif value.endswith(\"B\"):\n",
        "            return float(value[:-1]) * 1_000_000_000\n",
        "        elif value.endswith(\"M\"):\n",
        "            return float(value[:-1]) * 1_000_000\n",
        "        else:\n",
        "            return float(value)\n",
        "    except:\n",
        "        return None\n",
        "currency_udf = udf(convert_currency, DoubleType())\n",
        "\n",
        "df_converted = df.withColumn(\"Valuation_Num\", currency_udf(col(\"Valuation\"))) \\\n",
        "                 .withColumn(\"ARR_Num\", currency_udf(col(\"ARR\"))) \\\n",
        "                 .withColumn(\"Funding_Num\", currency_udf(col(\"Total Funding\")))\n",
        "\n",
        "df_converted.select(\"Company Name\", \"Valuation\", \"Valuation_Num\", \"ARR\", \"ARR_Num\", \"Total Funding\", \"Funding_Num\").show(5)\n"
      ],
      "metadata": {
        "colab": {
          "base_uri": "https://localhost:8080/"
        },
        "id": "qbx45pJLkdo1",
        "outputId": "e233d007-b1e0-4380-bc86-d9628107ad07"
      },
      "execution_count": 7,
      "outputs": [
        {
          "output_type": "stream",
          "name": "stdout",
          "text": [
            "+------------+---------+-------------+------+-------+-------------+-------------------+\n",
            "|Company Name|Valuation|Valuation_Num|   ARR|ARR_Num|Total Funding|        Funding_Num|\n",
            "+------------+---------+-------------+------+-------+-------------+-------------------+\n",
            "|   Microsoft|      $3T|       3.0E12| $270B| 2.7E11|          $1B|              1.0E9|\n",
            "|  Salesforce|  $227.8B|     2.278E11|$37.9B|3.79E10|       $65.4M|6.540000000000001E7|\n",
            "|       Adobe|    $240B|       2.4E11|$19.4B|1.94E10|        $2.5M|          2500000.0|\n",
            "|      Oracle|    $350B|       3.5E11|$52.9B|5.29E10|          $2K|               NULL|\n",
            "|         SAP|    $215B|      2.15E11|$32.5B|3.25E10|          N/A|               NULL|\n",
            "+------------+---------+-------------+------+-------+-------------+-------------------+\n",
            "only showing top 5 rows\n",
            "\n"
          ]
        }
      ]
    },
    {
      "cell_type": "code",
      "source": [
        "from pyspark.sql.window import Window\n",
        "from pyspark.sql.functions import rank, desc\n",
        "\n",
        "window_spec = Window.partitionBy(\"Industry\").orderBy(desc(\"Valuation_Num\"))\n",
        "\n",
        "df_ranked = df_converted.withColumn(\"Rank\", rank().over(window_spec))\n",
        "df_top2 = df_ranked.filter(col(\"Rank\") <= 2)\n",
        "\n",
        "df_top2.select(\"Company Name\", \"Industry\", \"Valuation\", \"Valuation_Num\", \"Rank\").show(truncate=False)\n"
      ],
      "metadata": {
        "colab": {
          "base_uri": "https://localhost:8080/"
        },
        "id": "StDqwTbWkdsT",
        "outputId": "9b8522e7-0421-4223-b0dc-60db5773cd26"
      },
      "execution_count": 8,
      "outputs": [
        {
          "output_type": "stream",
          "name": "stdout",
          "text": [
            "+------------+----------------------+--------------+-------------+----+\n",
            "|Company Name|Industry              |Valuation     |Valuation_Num|Rank|\n",
            "+------------+----------------------+--------------+-------------+----+\n",
            "|AppDynamics |APM                   |$3.7B (Cisco) |NULL         |1   |\n",
            "|Affirm      |BNPL                  |$12B          |1.2E10       |1   |\n",
            "|Looker      |Business Intelligence |$2.6B (Google)|NULL         |1   |\n",
            "|CircleCI    |CI/CD                 |$1.7B         |1.7E9        |1   |\n",
            "|Salesforce  |CRM                   |$227.8B       |2.278E11     |1   |\n",
            "|Marqeta     |Card Issuing          |$4.3B         |4.3E9        |1   |\n",
            "|Zscaler     |Cloud Security        |$30B          |3.0E10       |1   |\n",
            "|Netskope    |Cloud Security        |$7.5B         |7.5E9        |2   |\n",
            "|Dropbox     |Cloud Storage         |$8.5B         |8.5E9        |1   |\n",
            "|Box         |Cloud Storage         |$3.5B         |3.5E9        |2   |\n",
            "|Miro        |Collaboration         |$17.5B        |1.75E10      |1   |\n",
            "|Atlassian   |Collaboration Software|$55B          |5.5E10       |1   |\n",
            "|Twilio      |Communications        |$12B          |1.2E10       |1   |\n",
            "|RingCentral |Communications        |$5B           |5.0E9        |2   |\n",
            "|Procore     |Construction          |$9B           |9.0E9        |1   |\n",
            "|Five9       |Contact Center        |$8B           |8.0E9        |1   |\n",
            "|Brex        |Corporate Cards       |$12.3B        |1.23E10      |1   |\n",
            "|Adobe       |Creative Software     |$240B         |2.4E11       |1   |\n",
            "|Segment     |Customer Data         |$3.2B (Twilio)|NULL         |1   |\n",
            "|Braze       |Customer Engagement   |$5.6B         |5.6E9        |1   |\n",
            "+------------+----------------------+--------------+-------------+----+\n",
            "only showing top 20 rows\n",
            "\n"
          ]
        }
      ]
    },
    {
      "cell_type": "code",
      "source": [
        "# Problem 3: Window Function – ARR Growth Gaps\n",
        "\n",
        "from pyspark.sql.functions import udf, col, lag, when, split, trim, desc\n",
        "from pyspark.sql.window import Window\n",
        "from pyspark.sql.types import DoubleType\n",
        "\n",
        "arr_window = Window.partitionBy(\"Industry\").orderBy(col(\"ARR_Num\").desc())\n",
        "\n",
        "df_arr_diff = df_converted.withColumn(\"Prev_ARR\", lag(\"ARR_Num\").over(arr_window)) \\\n",
        "                          .withColumn(\"ARR_Difference\", col(\"Prev_ARR\") - col(\"ARR_Num\")) \\\n",
        "                          .filter(col(\"ARR_Difference\") > 1_000_000_000)\n",
        "\n",
        "df_arr_diff.select(\"Company Name\", \"Industry\", \"ARR_Num\", \"ARR_Difference\").show(truncate=False)\n"
      ],
      "metadata": {
        "colab": {
          "base_uri": "https://localhost:8080/"
        },
        "id": "IBmpFDD8lSw3",
        "outputId": "a1d6c81e-bfa5-4425-b699-aac0670143ef"
      },
      "execution_count": 10,
      "outputs": [
        {
          "output_type": "stream",
          "name": "stdout",
          "text": [
            "+------------+-------------------+-------+--------------------+\n",
            "|Company Name|Industry           |ARR_Num|ARR_Difference      |\n",
            "+------------+-------------------+-------+--------------------+\n",
            "|Netskope    |Cloud Security     |5.0E8  |1.1E9               |\n",
            "|Box         |Cloud Storage      |1.0E9  |1.5E9               |\n",
            "|RingCentral |Communications     |2.2E9  |1.8999999999999995E9|\n",
            "|CrowdStrike |Cybersecurity      |3.1E9  |4.4E9               |\n",
            "|Palantir    |Data Analytics     |2.2E9  |1.5E9               |\n",
            "|Redis       |Database           |1.0E8  |1.6E9               |\n",
            "|Figma       |Design             |6.0E8  |1.4E9               |\n",
            "|SAP         |Enterprise Software|3.25E10|2.375E11            |\n",
            "|Stripe      |Payments           |1.4E10 |5.7E9               |\n",
            "+------------+-------------------+-------+--------------------+\n",
            "\n"
          ]
        }
      ]
    },
    {
      "cell_type": "code",
      "source": [
        "# Problem 4: CASE WHEN – Label Companies by G2 Rating\n",
        "\n",
        "df_rating_tier = df_converted.withColumn(\"Rating_Tier\", when(col(\"G2 Rating\") >= 4.7, \"Excellent\")\n",
        "                                         .when(col(\"G2 Rating\") >= 4.3, \"Very Good\")\n",
        "                                         .when(col(\"G2 Rating\") >= 4.0, \"Good\")\n",
        "                                         .otherwise(\"Average\"))\n",
        "\n",
        "df_rating_tier.select(\"Company Name\", \"G2 Rating\", \"Rating_Tier\").show(truncate=False)\n"
      ],
      "metadata": {
        "colab": {
          "base_uri": "https://localhost:8080/"
        },
        "id": "3EwMQ_hwlSz4",
        "outputId": "b62efeff-ee43-45fb-bb0a-56048111b6e2"
      },
      "execution_count": 11,
      "outputs": [
        {
          "output_type": "stream",
          "name": "stdout",
          "text": [
            "+------------+---------+-----------+\n",
            "|Company Name|G2 Rating|Rating_Tier|\n",
            "+------------+---------+-----------+\n",
            "|Microsoft   |4.4      |Very Good  |\n",
            "|Salesforce  |4.3      |Very Good  |\n",
            "|Adobe       |4.5      |Very Good  |\n",
            "|Oracle      |4.0      |Good       |\n",
            "|SAP         |4.1      |Good       |\n",
            "|Intuit      |4.4      |Very Good  |\n",
            "|ServiceNow  |4.4      |Very Good  |\n",
            "|Workday     |4.2      |Good       |\n",
            "|Zoom        |4.5      |Very Good  |\n",
            "|Shopify     |4.4      |Very Good  |\n",
            "|Atlassian   |4.3      |Very Good  |\n",
            "|Snowflake   |4.4      |Very Good  |\n",
            "|HubSpot     |4.4      |Very Good  |\n",
            "|DocuSign    |4.5      |Very Good  |\n",
            "|Slack       |4.5      |Very Good  |\n",
            "|Notion      |4.7      |Excellent  |\n",
            "|Datadog     |4.4      |Very Good  |\n",
            "|MongoDB     |4.5      |Very Good  |\n",
            "|Okta        |4.4      |Very Good  |\n",
            "|Twilio      |4.3      |Very Good  |\n",
            "+------------+---------+-----------+\n",
            "only showing top 20 rows\n",
            "\n"
          ]
        }
      ]
    },
    {
      "cell_type": "code",
      "source": [],
      "metadata": {
        "id": "qEslQmhklS3n"
      },
      "execution_count": null,
      "outputs": []
    },
    {
      "cell_type": "code",
      "source": [
        "from pyspark.sql.functions import split, trim\n",
        "\n",
        "investor_tiers = spark.createDataFrame([\n",
        "    (\"Accel\", \"Tier 1\"),\n",
        "    (\"Sequoia\", \"Tier 1\"),\n",
        "    (\"Andreessen Horowitz\", \"Tier 1\"),\n",
        "    (\"SoftBank\", \"Tier 2\"),\n",
        "    (\"Lightspeed\", \"Tier 2\"),\n",
        "    (\"Unknown\", \"Tier 3\")\n",
        "], [\"Investor\", \"Tier\"])\n",
        "\n",
        "df_tier = df_converted.withColumn(\"First_Investor\", trim(split(col(\"Top Investors\"), \",\")[0])) \\\n",
        "                      .join(investor_tiers, col(\"First_Investor\") == col(\"Investor\"), \"left\") \\\n",
        "                      .filter(col(\"Tier\").isin(\"Tier 1\", \"Tier 2\")) \\\n",
        "                      .select(\"Company Name\", \"First_Investor\", \"Tier\", \"Valuation\", \"Valuation_Num\")\n",
        "\n",
        "df_tier.show(truncate=False)\n"
      ],
      "metadata": {
        "colab": {
          "base_uri": "https://localhost:8080/"
        },
        "id": "QzZb85ZonQaT",
        "outputId": "7df2e7f4-7c7b-4f2d-fd33-0762798f9727"
      },
      "execution_count": 12,
      "outputs": [
        {
          "output_type": "stream",
          "name": "stdout",
          "text": [
            "+------------------+-------------------+------+--------------------+-------------+\n",
            "|Company Name      |First_Investor     |Tier  |Valuation           |Valuation_Num|\n",
            "+------------------+-------------------+------+--------------------+-------------+\n",
            "|Algolia           |Accel              |Tier 1|$2.3B               |2.3E9        |\n",
            "|Sumo Logic        |Accel              |Tier 1|$2.3B               |2.3E9        |\n",
            "|Segment           |Accel              |Tier 1|$3.2B (Twilio)      |NULL         |\n",
            "|Freshworks        |Accel              |Tier 1|$5.2B               |5.2E9        |\n",
            "|Slack             |Accel              |Tier 1|$27.7B (Salesforce) |NULL         |\n",
            "|Netskope          |Sequoia            |Tier 1|$7.5B               |7.5E9        |\n",
            "|Verkada           |Sequoia            |Tier 1|$3.2B               |3.2E9        |\n",
            "|Gong              |Sequoia            |Tier 1|$7.3B               |7.3E9        |\n",
            "|Qualtrics         |Sequoia            |Tier 1|$12.5B (Silver Lake)|NULL         |\n",
            "|RingCentral       |Sequoia            |Tier 1|$5B                 |5.0E9        |\n",
            "|Palo Alto Networks|Sequoia            |Tier 1|$95B                |9.5E10       |\n",
            "|Amplitude         |Sequoia            |Tier 1|$4B                 |4.0E9        |\n",
            "|Confluent         |Sequoia            |Tier 1|$9.1B               |9.1E9        |\n",
            "|UiPath            |Sequoia            |Tier 1|$7B                 |7.0E9        |\n",
            "|Dropbox           |Sequoia            |Tier 1|$8.5B               |8.5E9        |\n",
            "|Canva             |Sequoia            |Tier 1|$40B                |4.0E10       |\n",
            "|Stripe            |Sequoia            |Tier 1|$65B                |6.5E10       |\n",
            "|MongoDB           |Sequoia            |Tier 1|$26B                |2.6E10       |\n",
            "|Snowflake         |Sequoia            |Tier 1|$75B                |7.5E10       |\n",
            "|Tanium            |Andreessen Horowitz|Tier 1|$9.5B               |9.5E9        |\n",
            "+------------------+-------------------+------+--------------------+-------------+\n",
            "only showing top 20 rows\n",
            "\n"
          ]
        }
      ]
    },
    {
      "cell_type": "code",
      "source": [],
      "metadata": {
        "id": "482n1OJ5nYbN"
      },
      "execution_count": null,
      "outputs": []
    },
    {
      "cell_type": "code",
      "source": [
        "\n",
        "industry_medians = spark.createDataFrame([\n",
        "    (\"Enterprise Software\", 150_000_000_000),\n",
        "    (\"CRM\", 100_000_000_000),\n",
        "    (\"AI\", 70_000_000_000),\n",
        "    (\"HRTech\", 50_000_000_000),\n",
        "], [\"Industry\", \"Median_Valuation\"])\n",
        "\n",
        "df_median_cmp = df_converted.join(industry_medians, \"Industry\", \"left\").withColumn(\"Valuation_Position\", when(col(\"Valuation_Num\") > col(\"Median_Valuation\"), \"Above Median\").otherwise(\"Below Median\")).select(\"Company Name\", \"Industry\", \"Valuation_Num\", \"Median_Valuation\", \"Valuation_Position\")\n",
        "\n",
        "df_median_cmp.show(truncate=False)\n"
      ],
      "metadata": {
        "colab": {
          "base_uri": "https://localhost:8080/"
        },
        "id": "Cu_J5ZyenYes",
        "outputId": "64c4f5e9-1ab2-470c-e35d-6aaf7c50ed51"
      },
      "execution_count": 14,
      "outputs": [
        {
          "output_type": "stream",
          "name": "stdout",
          "text": [
            "+------------+----------------------+-------------+----------------+------------------+\n",
            "|Company Name|Industry              |Valuation_Num|Median_Valuation|Valuation_Position|\n",
            "+------------+----------------------+-------------+----------------+------------------+\n",
            "|Zoom        |Video Communications  |8.5E10       |NULL            |Below Median      |\n",
            "|Stripe      |Payments              |6.5E10       |NULL            |Below Median      |\n",
            "|Atlassian   |Collaboration Software|5.5E10       |NULL            |Below Median      |\n",
            "|Oracle      |Database & Enterprise |3.5E11       |NULL            |Below Median      |\n",
            "|Workday     |HR & Finance          |6.5E10       |NULL            |Below Median      |\n",
            "|Slack       |Team Communication    |NULL         |NULL            |Below Median      |\n",
            "|Adobe       |Creative Software     |2.4E11       |NULL            |Below Median      |\n",
            "|Microsoft   |Enterprise Software   |3.0E12       |150000000000    |Above Median      |\n",
            "|SAP         |Enterprise Software   |2.15E11      |150000000000    |Above Median      |\n",
            "|Twilio      |Communications        |1.2E10       |NULL            |Below Median      |\n",
            "|Shopify     |E-commerce            |9.5E10       |NULL            |Below Median      |\n",
            "|Notion      |Productivity          |1.0E10       |NULL            |Below Median      |\n",
            "|Okta        |Identity Management   |2.5E10       |NULL            |Below Median      |\n",
            "|DocuSign    |Digital Agreements    |1.0E10       |NULL            |Below Median      |\n",
            "|ServiceNow  |IT Service Management |1.47E11      |NULL            |Below Median      |\n",
            "|Datadog     |Monitoring & Analytics|4.4E10       |NULL            |Below Median      |\n",
            "|HubSpot     |Marketing & Sales     |3.2E10       |NULL            |Below Median      |\n",
            "|MongoDB     |Database              |2.6E10       |NULL            |Below Median      |\n",
            "|Salesforce  |CRM                   |2.278E11     |100000000000    |Above Median      |\n",
            "|Snowflake   |Data Warehousing      |7.5E10       |NULL            |Below Median      |\n",
            "+------------+----------------------+-------------+----------------+------------------+\n",
            "only showing top 20 rows\n",
            "\n"
          ]
        }
      ]
    }
  ]
}